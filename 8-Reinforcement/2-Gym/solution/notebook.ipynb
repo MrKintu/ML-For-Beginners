{
 "cells": [
  {
   "cell_type": "markdown",
   "metadata": {},
   "source": [
    "## CartPole Skating\n",
    "\n",
    "> **Problem**: If Peter wants to escape from the wolf, he needs to be able to move faster than him. We will see how Peter can learn to skate, in particular, to keep balance, using Q-Learning.\n",
    "\n",
    "First, let's install the gym and import required libraries:"
   ]
  },
  {
   "cell_type": "code",
   "execution_count": 1,
   "metadata": {},
   "outputs": [],
   "source": [
    "import os\n",
    "import gymnasium as gym\n",
    "import matplotlib.pyplot as plt\n",
    "import numpy as np\n",
    "import random\n",
    "from PIL import Image"
   ]
  },
  {
   "cell_type": "markdown",
   "metadata": {},
   "source": [
    "## Create a cartpole environment"
   ]
  },
  {
   "cell_type": "code",
   "execution_count": 2,
   "metadata": {},
   "outputs": [
    {
     "name": "stdout",
     "output_type": "stream",
     "text": [
      "Discrete(2)\n",
      "Box([-4.8               -inf -0.41887903        -inf], [4.8               inf 0.41887903        inf], (4,), float32)\n",
      "0\n"
     ]
    }
   ],
   "source": [
    "env = gym.make(\"CartPole-v1\")\n",
    "print(env.action_space)\n",
    "print(env.observation_space)\n",
    "print(env.action_space.sample())"
   ]
  },
  {
   "cell_type": "markdown",
   "metadata": {},
   "source": [
    "To see how the environment works, let's run a short simulation for 100 steps."
   ]
  },
  {
   "cell_type": "code",
   "execution_count": 3,
   "metadata": {},
   "outputs": [
    {
     "name": "stderr",
     "output_type": "stream",
     "text": [
      "a:\\EDUCATION\\ML-Starter\\venv\\Lib\\site-packages\\gymnasium\\envs\\classic_control\\cartpole.py:250: UserWarning: \u001b[33mWARN: You are calling render method without specifying any render mode. You can specify the render_mode at initialization, e.g. gym.make(\"CartPole-v1\", render_mode=\"rgb_array\")\u001b[0m\n",
      "  gym.logger.warn(\n",
      "a:\\EDUCATION\\ML-Starter\\venv\\Lib\\site-packages\\gymnasium\\envs\\classic_control\\cartpole.py:214: UserWarning: \u001b[33mWARN: You are calling 'step()' even though this environment has already returned terminated = True. You should always call 'reset()' once you receive 'terminated = True' -- any further steps are undefined behavior.\u001b[0m\n",
      "  logger.warn(\n"
     ]
    }
   ],
   "source": [
    "env.reset()\n",
    "\n",
    "for i in range(100):\n",
    "   env.render()\n",
    "   env.step(env.action_space.sample())\n",
    "env.close()"
   ]
  },
  {
   "cell_type": "markdown",
   "metadata": {},
   "source": [
    "During simulation, we need to get observations in order to decide how to act. In fact, `step` function returns us back current observations, reward function, and the `done` flag that indicates whether it makes sense to continue the simulation or not:"
   ]
  },
  {
   "cell_type": "code",
   "execution_count": 4,
   "metadata": {},
   "outputs": [
    {
     "name": "stdout",
     "output_type": "stream",
     "text": [
      "[-0.04495028 -0.17412168  0.0197036   0.2847484 ] -> 1.0\n",
      "[-0.04843271  0.0207138   0.02539857 -0.0016556 ] -> 1.0\n",
      "[-0.04801843 -0.17476302  0.02536545  0.29893145] -> 1.0\n",
      "[-0.05151369  0.01998835  0.03134408  0.01435499] -> 1.0\n",
      "[-0.05111393 -0.17556876  0.03163118  0.31676024] -> 1.0\n",
      "[-0.0546253  -0.37112665  0.03796639  0.61924833] -> 1.0\n",
      "[-0.06204784 -0.17655498  0.05035135  0.33876058] -> 1.0\n",
      "[-0.06557894  0.01781569  0.05712657  0.06237114] -> 1.0\n",
      "[-0.06522262 -0.17807682  0.05837399  0.37251663] -> 1.0\n",
      "[-0.06878415 -0.37397733  0.06582432  0.68301916] -> 1.0\n",
      "[-0.0762637 -0.5699486  0.0794847  0.9956778] -> 1.0\n",
      "[-0.08766267 -0.37597448  0.09939826  0.7289792 ] -> 1.0\n",
      "[-0.09518217 -0.18235673  0.11397784  0.46916106] -> 1.0\n",
      "[-0.0988293   0.01098616  0.12336107  0.21446544] -> 1.0\n",
      "[-0.09860957 -0.18566369  0.12765038  0.54337484] -> 1.0\n",
      "[-0.10232285  0.00745506  0.13851787  0.293481  ] -> 1.0\n",
      "[-0.10217375 -0.18934199  0.14438748  0.62644327] -> 1.0\n",
      "[-0.10596059 -0.38615277  0.15691635  0.96089005] -> 1.0\n",
      "[-0.11368365 -0.19344807  0.17613415  0.7213287 ] -> 1.0\n",
      "[-0.11755261 -0.39051244  0.19056073  1.063868  ] -> 1.0\n",
      "[-0.12536286 -0.198353    0.2118381   0.83653295] -> 1.0\n"
     ]
    }
   ],
   "source": [
    "env.reset()\n",
    "\n",
    "done = False\n",
    "while not done:\n",
    "    env.render()\n",
    "    obs, rew, terminated, truncated, info = env.step(env.action_space.sample())\n",
    "    done = terminated or truncated\n",
    "    print(f\"{obs} -> {rew}\")\n",
    "env.close()"
   ]
  },
  {
   "cell_type": "markdown",
   "metadata": {},
   "source": [
    "We can get min and max value of those numbers:"
   ]
  },
  {
   "cell_type": "code",
   "execution_count": 5,
   "metadata": {},
   "outputs": [
    {
     "name": "stdout",
     "output_type": "stream",
     "text": [
      "[-4.8               -inf -0.41887903        -inf]\n",
      "[4.8               inf 0.41887903        inf]\n"
     ]
    }
   ],
   "source": [
    "print(env.observation_space.low)\n",
    "print(env.observation_space.high)"
   ]
  },
  {
   "cell_type": "markdown",
   "metadata": {},
   "source": [
    "## State Discretization"
   ]
  },
  {
   "cell_type": "code",
   "execution_count": 6,
   "metadata": {},
   "outputs": [],
   "source": [
    "def flatten_obs(obs):\n",
    "    if isinstance(obs, dict):\n",
    "        return np.concatenate([flatten_obs(v) for v in obs.values()])\n",
    "    elif isinstance(obs, (tuple, list)):\n",
    "        return np.concatenate([flatten_obs(v) for v in obs if not isinstance(v, dict)])\n",
    "    else:\n",
    "        return np.array(obs).flatten()\n",
    "\n",
    "def discretize(x, bin_width=0.1):\n",
    "    x = flatten_obs(x)\n",
    "    denom = np.full_like(x, fill_value=bin_width, dtype=float)\n",
    "    result = (x / denom).astype(int)\n",
    "    if result.shape == ():  # scalar\n",
    "        return (int(result),)\n",
    "    return tuple(result)"
   ]
  },
  {
   "cell_type": "markdown",
   "metadata": {},
   "source": [
    "Let's also explore other discretization method using bins:"
   ]
  },
  {
   "cell_type": "code",
   "execution_count": 7,
   "metadata": {},
   "outputs": [
    {
     "name": "stdout",
     "output_type": "stream",
     "text": [
      "Sample bins for interval (-5,5) with 10 bins\n",
      " [-5. -4. -3. -2. -1.  0.  1.  2.  3.  4.  5.]\n"
     ]
    }
   ],
   "source": [
    "def create_bins(i,num):\n",
    "    return np.arange(num+1)*(i[1]-i[0])/num+i[0]\n",
    "\n",
    "print(\"Sample bins for interval (-5,5) with 10 bins\\n\",create_bins((-5,5),10))\n",
    "\n",
    "ints = [(-5,5),(-2,2),(-0.5,0.5),(-2,2)] # intervals of values for each parameter\n",
    "nbins = [20,20,10,10] # number of bins for each parameter\n",
    "bins = [create_bins(ints[i],nbins[i]) for i in range(4)]\n",
    "\n",
    "def discretize_bins(x):\n",
    "    return tuple(np.digitize(x[i],bins[i]) for i in range(4))"
   ]
  },
  {
   "cell_type": "markdown",
   "metadata": {},
   "source": [
    "Let's now run a short simulation and observe those discrete environment values."
   ]
  },
  {
   "cell_type": "code",
   "execution_count": 8,
   "metadata": {},
   "outputs": [
    {
     "name": "stdout",
     "output_type": "stream",
     "text": [
      "(np.int64(0), np.int64(-1), np.int64(0), np.int64(3))\n",
      "(np.int64(0), np.int64(-3), np.int64(0), np.int64(6))\n",
      "(np.int64(0), np.int64(-1), np.int64(0), np.int64(3))\n",
      "(np.int64(0), np.int64(-3), np.int64(0), np.int64(6))\n",
      "(np.int64(0), np.int64(-1), np.int64(0), np.int64(3))\n",
      "(np.int64(0), np.int64(-3), np.int64(0), np.int64(6))\n",
      "(np.int64(0), np.int64(-1), np.int64(0), np.int64(3))\n",
      "(np.int64(0), np.int64(0), np.int64(0), np.int64(1))\n",
      "(np.int64(0), np.int64(-1), np.int64(0), np.int64(4))\n",
      "(np.int64(0), np.int64(0), np.int64(0), np.int64(1))\n",
      "(np.int64(0), np.int64(-1), np.int64(1), np.int64(5))\n",
      "(np.int64(0), np.int64(-3), np.int64(1), np.int64(8))\n",
      "(np.int64(0), np.int64(-5), np.int64(1), np.int64(11))\n",
      "(np.int64(0), np.int64(-7), np.int64(1), np.int64(14))\n",
      "(np.int64(0), np.int64(-5), np.int64(1), np.int64(12))\n",
      "(np.int64(0), np.int64(-7), np.int64(2), np.int64(15))\n",
      "(np.int64(0), np.int64(-9), np.int64(2), np.int64(19))\n"
     ]
    }
   ],
   "source": [
    "env.reset()\n",
    "\n",
    "done = False\n",
    "while not done:\n",
    "    # env.render()\n",
    "    obs, rew, terminated, truncated, info = env.step(env.action_space.sample())\n",
    "    done = terminated or truncated\n",
    "    # print(discretize_bins(obs))\n",
    "    print(discretize(obs))"
   ]
  },
  {
   "cell_type": "markdown",
   "metadata": {},
   "source": [
    "## Q-Table Structure"
   ]
  },
  {
   "cell_type": "code",
   "execution_count": 9,
   "metadata": {},
   "outputs": [],
   "source": [
    "Q = {}\n",
    "actions = (0,1)\n",
    "\n",
    "def qvalues(state):\n",
    "    return [Q.get((state,a),0) for a in actions]"
   ]
  },
  {
   "cell_type": "markdown",
   "metadata": {},
   "source": [
    "## Let's Start Q-Learning!"
   ]
  },
  {
   "cell_type": "code",
   "execution_count": 10,
   "metadata": {},
   "outputs": [],
   "source": [
    "# hyperparameters\n",
    "alpha = 0.3\n",
    "gamma = 0.9\n",
    "epsilon = 0.90"
   ]
  },
  {
   "cell_type": "code",
   "execution_count": 11,
   "metadata": {},
   "outputs": [
    {
     "name": "stdout",
     "output_type": "stream",
     "text": [
      "0: 13.0, alpha=0.3, epsilon=0.9\n"
     ]
    },
    {
     "name": "stdout",
     "output_type": "stream",
     "text": [
      "5000: 12.7172, alpha=0.3, epsilon=0.9\n",
      "10000: 12.66, alpha=0.3, epsilon=0.9\n",
      "15000: 12.7564, alpha=0.3, epsilon=0.9\n",
      "20000: 12.7496, alpha=0.3, epsilon=0.9\n",
      "25000: 12.7542, alpha=0.3, epsilon=0.9\n",
      "30000: 12.7076, alpha=0.3, epsilon=0.9\n",
      "35000: 12.595, alpha=0.3, epsilon=0.9\n",
      "40000: 12.6124, alpha=0.3, epsilon=0.9\n",
      "45000: 12.6952, alpha=0.3, epsilon=0.9\n",
      "50000: 12.704, alpha=0.3, epsilon=0.9\n",
      "55000: 12.544, alpha=0.3, epsilon=0.9\n",
      "60000: 12.5894, alpha=0.3, epsilon=0.9\n",
      "65000: 12.7118, alpha=0.3, epsilon=0.9\n",
      "70000: 12.6184, alpha=0.3, epsilon=0.9\n",
      "75000: 12.6034, alpha=0.3, epsilon=0.9\n",
      "80000: 12.6138, alpha=0.3, epsilon=0.9\n",
      "85000: 12.6366, alpha=0.3, epsilon=0.9\n",
      "90000: 12.7476, alpha=0.3, epsilon=0.9\n",
      "95000: 12.6052, alpha=0.3, epsilon=0.9\n"
     ]
    }
   ],
   "source": [
    "def probs(v,eps=1e-4):\n",
    "    v = v-v.min()+eps\n",
    "    v = v/v.sum()\n",
    "    return v\n",
    "\n",
    "Qmax = 0\n",
    "cum_rewards = []\n",
    "rewards = []\n",
    "for epoch in range(100000):\n",
    "    obs = env.reset()\n",
    "    done = False\n",
    "    cum_reward=0\n",
    "    # == do the simulation ==\n",
    "    while not done:\n",
    "        s = discretize(obs[0])\n",
    "        if random.random()<epsilon:\n",
    "            # exploitation - chose the action according to Q-Table probabilities\n",
    "            v = probs(np.array(qvalues(s)))\n",
    "            a = random.choices(actions,weights=v)[0]\n",
    "        else:\n",
    "            # exploration - randomly chose the action\n",
    "            a = np.random.randint(env.action_space.n)\n",
    "\n",
    "        obs, rew, terminated, truncated, info = env.step(a)\n",
    "        done = terminated or truncated\n",
    "        cum_reward+=rew\n",
    "        ns = discretize(obs)\n",
    "        Q[(s,a)] = (1 - alpha) * Q.get((s,a),0) + alpha * (rew + gamma * max(qvalues(ns)))\n",
    "    cum_rewards.append(cum_reward)\n",
    "    rewards.append(cum_reward)\n",
    "    # == Periodically print results and calculate average reward ==\n",
    "    if epoch%5000==0:\n",
    "        print(f\"{epoch}: {np.average(cum_rewards)}, alpha={alpha}, epsilon={epsilon}\")\n",
    "        if np.average(cum_rewards) > Qmax:\n",
    "            Qmax = np.average(cum_rewards)\n",
    "            Qbest = Q\n",
    "        cum_rewards=[]"
   ]
  },
  {
   "cell_type": "markdown",
   "metadata": {},
   "source": [
    "## Plotting Training Progress"
   ]
  },
  {
   "cell_type": "code",
   "execution_count": 12,
   "metadata": {},
   "outputs": [
    {
     "data": {
      "text/plain": [
       "[<matplotlib.lines.Line2D at 0x1edbb765220>]"
      ]
     },
     "execution_count": 12,
     "metadata": {},
     "output_type": "execute_result"
    },
    {
     "data": {
      "image/png": "[encoded data removed]",
      "text/plain": [
       "<Figure size 640x480 with 1 Axes>"
      ]
     },
     "metadata": {},
     "output_type": "display_data"
    }
   ],
   "source": [
    "plt.plot(rewards)"
   ]
  },
  {
   "cell_type": "markdown",
   "metadata": {},
   "source": [
    "From this graph, it is not possible to tell anything, because due to the nature of stochastic training process the length of training sessions varies greatly. To make more sense of this graph, we can calculate **running average** over series of experiments, let's say 100. This can be done conveniently using `np.convolve`:"
   ]
  },
  {
   "cell_type": "code",
   "execution_count": 13,
   "metadata": {},
   "outputs": [
    {
     "data": {
      "text/plain": [
       "[<matplotlib.lines.Line2D at 0x1edbb3ea600>]"
      ]
     },
     "execution_count": 13,
     "metadata": {},
     "output_type": "execute_result"
    },
    {
     "data": {
      "image/png": "[encoded data removed]",
      "text/plain": [
       "<Figure size 640x480 with 1 Axes>"
      ]
     },
     "metadata": {},
     "output_type": "display_data"
    }
   ],
   "source": [
    "def running_average(x,window):\n",
    "    return np.convolve(x,np.ones(window)/window,mode='valid')\n",
    "\n",
    "plt.plot(running_average(rewards,100))"
   ]
  },
  {
   "cell_type": "markdown",
   "metadata": {},
   "source": [
    "## Varying Hyperparameters and Seeing the Result in Action\n",
    "\n",
    "Now it would be interesting to actually see how the trained model behaves. Let's run the simulation, and we will be following the same action selection strategy as during training: sampling according to the probability distribution in Q-Table: "
   ]
  },
  {
   "cell_type": "code",
   "execution_count": 14,
   "metadata": {},
   "outputs": [],
   "source": [
    "obs = env.reset()\n",
    "done = False\n",
    "while not done:\n",
    "   s = discretize(obs)\n",
    "   env.render()\n",
    "   v = probs(np.array(qvalues(s)))\n",
    "   a = random.choices(actions,weights=v)[0]\n",
    "   obs, _, terminated, truncated, _ = env.step(a)\n",
    "   done = terminated or truncated\n",
    "env.close()"
   ]
  },
  {
   "cell_type": "markdown",
   "metadata": {},
   "source": [
    "\n",
    "## Saving result to an animated GIF\n",
    "\n",
    "If you want to impress your friends, you may want to send them the animated GIF picture of the balancing pole. To do this, we can invoke `env.render` to produce an image frame, and then save those to animated GIF using PIL library:"
   ]
  },
  {
   "cell_type": "code",
   "execution_count": 15,
   "metadata": {},
   "outputs": [
    {
     "name": "stdout",
     "output_type": "stream",
     "text": [
      "Saved GIF to: a:\\EDUCATION\\ML-Starter\\8-Reinforcement\\2-Gym\\images\\cartpole-balance.gif\n",
      "30\n"
     ]
    }
   ],
   "source": [
    "env = gym.make('CartPole-v1', render_mode='rgb_array')\n",
    "obs, _ = env.reset()\n",
    "done = False\n",
    "i=0\n",
    "ims = []\n",
    "\n",
    "notebook_dir = os.getcwd()\n",
    "images_dir = os.path.abspath(os.path.join(notebook_dir, '..', 'images'))\n",
    "os.makedirs(images_dir, exist_ok=True)\n",
    "\n",
    "while not done:\n",
    "   s = discretize(obs)\n",
    "   img = env.render()\n",
    "   ims.append(Image.fromarray(img))\n",
    "   v = probs(np.array([Qbest.get((s,a),0) for a in actions]))\n",
    "   a = random.choices(actions,weights=v)[0]\n",
    "   obs, _, terminated, truncated, _ = env.step(a)\n",
    "   done = terminated or truncated\n",
    "   i+=1\n",
    "env.close()\n",
    "gif_path = os.path.join(images_dir, 'cartpole-balance.gif')\n",
    "ims[0].save(gif_path, save_all=True, append_images=ims[1::2], loop=0, duration=5)\n",
    "print(\"Saved GIF to:\", gif_path)\n",
    "print(i)"
   ]
  }
 ],
 "metadata": {
  "kernelspec": {
   "display_name": "venv",
   "language": "python",
   "name": "python3"
  },
  "language_info": {
   "codemirror_mode": {
    "name": "ipython",
    "version": 3
   },
   "file_extension": ".py",
   "mimetype": "text/x-python",
   "name": "python",
   "nbconvert_exporter": "python",
   "pygments_lexer": "ipython3",
   "version": "3.12.10"
  },
  "orig_nbformat": 4
 },
 "nbformat": 4,
 "nbformat_minor": 2
}
